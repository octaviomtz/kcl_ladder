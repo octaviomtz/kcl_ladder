{
 "cells": [
  {
   "cell_type": "markdown",
   "metadata": {},
   "source": [
    "# Ladder network\n",
    "- Based on: https://github.com/abhiskk/ladder/blob/master/ladder/\n",
    "- An unsqueeze operation was added **bn_hat_z_layers**"
   ]
  },
  {
   "cell_type": "code",
   "execution_count": 1,
   "metadata": {},
   "outputs": [],
   "source": [
    "import numpy as np\n",
    "import torch\n",
    "from torch.nn.parameter import Parameter\n",
    "from torch.autograd import Variable\n",
    "from torch.optim import Adam\n",
    "from torch.optim import SGD"
   ]
  },
  {
   "cell_type": "code",
   "execution_count": 2,
   "metadata": {},
   "outputs": [],
   "source": [
    "import torchvision.datasets as dset\n",
    "import matplotlib.pyplot as plt\n",
    "import matplotlib.patches as mpatches\n",
    "plt.rcParams.update({'font.size':18})\n",
    "%matplotlib inline"
   ]
  },
  {
   "cell_type": "code",
   "execution_count": 3,
   "metadata": {},
   "outputs": [],
   "source": [
    "import utils_CLR\n",
    "from sklearn.metrics import confusion_matrix\n",
    "from sklearn.metrics import accuracy_score"
   ]
  },
  {
   "cell_type": "markdown",
   "metadata": {},
   "source": [
    "![title](ladder_network_overview.jpg)"
   ]
  },
  {
   "cell_type": "markdown",
   "metadata": {},
   "source": [
    "## I. Create a sequential model of StackedEncoders   \n",
    "- encoders = torch.nn.Sequential()\n",
    "  - store each encoder\n",
    "  - store a reference to each encoder:\n",
    "    - for i in range(n_encoders):   \n",
    "          encoder = Encoder(...)   \n",
    "          encoders_ref.append(encoder_ref)   \n",
    "          encoders.add_module(encoder_ref, encoder)   \n",
    "          \n",
    "## II. For each epoch, StackedEncoders call:\n",
    "#### 1. forward_noise \n",
    "  - on labelled data   \n",
    "  - on unlabelled data\n",
    "  \n",
    "#### 2.  get_encoders_tilde_z (produced by 1)"
   ]
  },
  {
   "cell_type": "markdown",
   "metadata": {},
   "source": [
    "### 1. forward_noise (on labelled data)\n",
    "- create noise\n",
    "- create dirty data (h) $h = x + noise$\n",
    "- **store** the bottom h (h1) (without gradients)  $\\overset{\\sim}{z}$ (retrieved in 7)\n",
    "- For each encoder we send forward_noise(h):\n",
    "  - linear transformation: $y=xA^T$ (z_pre)\n",
    "  - Batch_Normalization (z_pre_norm)\n",
    "  - Noise addition $\\overset{\\sim}{z}$\n",
    "  - **Store** a copy of $\\overset{\\sim}{z}$ (retrieved in 3)\n",
    "  - Batch Norm correction\n",
    "  - Activation (h)\n",
    "  - Return (h)\n",
    "\n",
    "### 2. forward_noise (on unlabelled data)\n",
    "- same as 1\n",
    "\n",
    "### 3. get_encoders_tilde_z\n",
    " - Get all $\\overset{\\sim}{z}$ obtained in forward_noise\n",
    " - Append them in an array and reverse it\n",
    " \n",
    "### 4. forward_clean (unlabelled_data)\n",
    "- For each encoder we send forward_clean(h):\n",
    "  - linear transformation: $y=xA^T$ (z_pre)\n",
    "  - **Store** a copy of (**buffer_z_pre**) (retrieved in 5)\n",
    "  - Batch_Normalization (z)\n",
    "  - **Store** a copy of (**buffer_z**) (retrieved in 6)\n",
    "  - Batch_Normalization Gamm_Beta (z_gb)   <-check why\n",
    "  - Activation (h)\n",
    "  - Return (h)\n",
    "  \n",
    "### 5. get_encoders_z_pre (created in 4)\n",
    " - Get all **buffer_z_pre** obtained in forward_noise\n",
    " - Append them in an array and reverse it\n",
    " \n",
    "### 6. get_encoders_z (created in 4)\n",
    " - Get all **buffer_z** obtained in forward_noise\n",
    " - Append them in an array and reverse it\n",
    " \n",
    "### 7. buffer_tilde_z_bottom (created in 4)\n",
    "-  **Store** the bottom $\\overset{\\sim}{z}$ created in 1\n",
    "\n",
    "### 8. forward_decoders( $\\overset{\\sim}{z}$_unlabelled (from 3),    output_noise_unlabelled (from 2), bottom $\\overset{\\sim}{z}$_unlabelled (from 2))\n",
    "### - returns $\\hat{z}$ (weighted ($\\upsilon$) sum of $\\overset{\\sim}{z}$ and a prior $\\mu$) \n",
    "### $\\hat{z} = \\upsilon * \\overset{\\sim}{z} + (1 - \\upsilon) * \\mu$\n",
    "\n",
    "- Batch Normalization on encoder_output  \n",
    "- for each decoder:\n",
    "  - get the corresponding $\\overset{\\sim}{z}$ from $\\boldsymbol{\\overset{\\sim}{z}}$ (tilde_z from 3)\n",
    "  - apply u=decoder.forward($\\overset{\\sim}{z}$, u) (in the first case u is encoder_output)\n",
    "    - apply the combinatior function g(tilde_z, u). It combines the lateral noisy activation signal $\\overset{\\sim}{z}$ and the reconstruction from layer $\\hat{z}^{(l+1)}$\n",
    "    - In the first case the combinator will use the last $\\overset{\\sim}{z}$ and the encoder_output\n",
    "    - In the combinator the functions $\\mu$ and $\\upsilon$ are model as expresive non linearities and have trainable parameters ($a1_i$...$a5_i$). e.g:\n",
    "    - $\\mu$ = a1 \\* sigmoid(a2 \\* output + a3) + a4 \\* output + a5\n",
    "    - $\\upsilon$ = a6 \\* sigmoid(a7 \\* output + a8) + a9 \\* output + a10\n",
    "    - $\\mu$ and $\\upsilon$ have the same shape as u (output for the first case)\n",
    "    - $\\hat{z}$ = ($\\overset{\\sim}{z} - \\mu) * \\upsilon) + \\mu$    (equivalent to first formula in (8))\n",
    "    \n",
    "### 9-10. Append unlabelled to preactivations and to activations\n",
    "### 11. Batch norm $\\hat{z}$ using z_pre  \n",
    "  - It uses mean(z_pre) but the std is obtained with random noise (?) \n",
    "  - Warning: I added an unsqueeze operation to match mm dimensions"
   ]
  },
  {
   "cell_type": "markdown",
   "metadata": {},
   "source": [
    "# Classes"
   ]
  },
  {
   "cell_type": "markdown",
   "metadata": {},
   "source": [
    "### Encoder"
   ]
  },
  {
   "cell_type": "code",
   "execution_count": 4,
   "metadata": {},
   "outputs": [],
   "source": [
    "class Encoder(torch.nn.Module):\n",
    "    def __init__(self, d_in, d_out, activation_type,\n",
    "                 train_bn_scaling, noise_level, use_cuda):\n",
    "        super(Encoder, self).__init__()\n",
    "        self.d_in = d_in\n",
    "        self.d_out = d_out\n",
    "        self.activation_type = activation_type\n",
    "        self.train_bn_scaling = train_bn_scaling\n",
    "        self.noise_level = noise_level\n",
    "        self.use_cuda = use_cuda\n",
    "\n",
    "        # Encoder\n",
    "        # Encoder only uses W matrix, no bias\n",
    "        self.linear = torch.nn.Linear(d_in, d_out, bias=False)\n",
    "        self.linear.weight.data = torch.randn(self.linear.weight.data.size()) / np.sqrt(d_in)\n",
    "\n",
    "        # Batch Normalization\n",
    "        # For Relu Beta of batch-norm is redundant, hence only Gamma is trained\n",
    "        # For Softmax Beta, Gamma are trained\n",
    "        # batch-normalization bias\n",
    "        self.bn_normalize_clean = torch.nn.BatchNorm1d(d_out, affine=False)\n",
    "        self.bn_normalize = torch.nn.BatchNorm1d(d_out, affine=False)\n",
    "        if self.use_cuda:\n",
    "            self.bn_beta = Parameter(torch.cuda.FloatTensor(1, d_out))\n",
    "        else:\n",
    "            self.bn_beta = Parameter(torch.FloatTensor(1, d_out))\n",
    "        self.bn_beta.data.zero_()\n",
    "        if self.train_bn_scaling:\n",
    "            # batch-normalization scaling\n",
    "            if self.use_cuda:\n",
    "                self.bn_gamma = Parameter(torch.cuda.FloatTensor(1, d_out))\n",
    "                self.bn_gamma.data = torch.ones(self.bn_gamma.size()).cuda()\n",
    "            else:\n",
    "                self.bn_gamma = Parameter(torch.FloatTensor(1, d_out))\n",
    "                self.bn_gamma.data = torch.ones(self.bn_gamma.size())\n",
    "\n",
    "        # Activation\n",
    "        if activation_type == 'relu':\n",
    "            self.activation = torch.nn.ReLU()\n",
    "        elif activation_type == 'softmax':\n",
    "            self.activation = torch.nn.Softmax()\n",
    "        else:\n",
    "            raise ValueError(\"invalid Acitvation type\")\n",
    "\n",
    "        # buffer for z_pre, z which will be used in decoder cost\n",
    "        self.buffer_z_pre = None\n",
    "        self.buffer_z = None\n",
    "        # buffer for tilde_z which will be used by decoder for reconstruction\n",
    "        self.buffer_tilde_z = None\n",
    "\n",
    "    def bn_gamma_beta(self, x):\n",
    "        if self.use_cuda:\n",
    "            ones = Parameter(torch.ones(x.size()[0], 1).cuda())\n",
    "        else:\n",
    "            ones = Parameter(torch.ones(x.size()[0], 1))\n",
    "        t = x + ones.mm(self.bn_beta)\n",
    "        if self.train_bn_scaling:\n",
    "            t = torch.mul(t, ones.mm(self.bn_gamma))\n",
    "        return t\n",
    "\n",
    "    def forward_clean(self, h):\n",
    "        z_pre = self.linear(h)\n",
    "        # Store z_pre, z to be used in calculation of reconstruction cost\n",
    "        self.buffer_z_pre = z_pre.detach().clone()\n",
    "        z = self.bn_normalize_clean(z_pre)\n",
    "        self.buffer_z = z.detach().clone()\n",
    "        z_gb = self.bn_gamma_beta(z)\n",
    "        h = self.activation(z_gb)\n",
    "        return h\n",
    "\n",
    "    def forward_noise(self, tilde_h):\n",
    "        # z_pre will be used in the decoder cost\n",
    "        z_pre = self.linear(tilde_h)\n",
    "        z_pre_norm = self.bn_normalize(z_pre)\n",
    "        # Add noise\n",
    "        noise = np.random.normal(loc=0.0, scale=self.noise_level, size=z_pre_norm.size())\n",
    "        if self.use_cuda:\n",
    "            noise = Variable(torch.cuda.FloatTensor(noise))\n",
    "        else:\n",
    "            noise = Variable(torch.FloatTensor(noise))\n",
    "        # tilde_z will be used by decoder for reconstruction\n",
    "        tilde_z = z_pre_norm + noise\n",
    "        # store tilde_z in buffer\n",
    "        self.buffer_tilde_z = tilde_z\n",
    "        z = self.bn_gamma_beta(tilde_z)\n",
    "        h = self.activation(z)\n",
    "        return h"
   ]
  },
  {
   "cell_type": "code",
   "execution_count": 5,
   "metadata": {},
   "outputs": [],
   "source": [
    "class StackedEncoders(torch.nn.Module):\n",
    "    def __init__(self, d_in, d_encoders, activation_types,\n",
    "                 train_batch_norms, noise_std, use_cuda):\n",
    "        super(StackedEncoders, self).__init__()\n",
    "        self.buffer_tilde_z_bottom = None\n",
    "        self.encoders_ref = []\n",
    "        self.encoders = torch.nn.Sequential()\n",
    "        self.noise_level = noise_std\n",
    "        self.use_cuda = use_cuda\n",
    "        n_encoders = len(d_encoders)\n",
    "        for i in range(n_encoders):\n",
    "            if i == 0:\n",
    "                d_input = d_in\n",
    "            else:\n",
    "                d_input = d_encoders[i - 1]\n",
    "            d_output = d_encoders[i]\n",
    "            activation = activation_types[i]\n",
    "            train_batch_norm = train_batch_norms[i]\n",
    "            encoder_ref = \"encoder_\" + str(i)\n",
    "            encoder = Encoder(d_input, d_output, activation, train_batch_norm, noise_std, use_cuda)\n",
    "            self.encoders_ref.append(encoder_ref)\n",
    "            self.encoders.add_module(encoder_ref, encoder)\n",
    "\n",
    "    def forward_clean(self, x):\n",
    "        h = x\n",
    "        for e_ref in self.encoders_ref:\n",
    "            encoder = getattr(self.encoders, e_ref)\n",
    "            h = encoder.forward_clean(h)\n",
    "        return h\n",
    "\n",
    "    def forward_noise(self, x):\n",
    "        noise = np.random.normal(loc=0.0, scale=self.noise_level, size=x.size())\n",
    "        if self.use_cuda:\n",
    "            \n",
    "            noise = Variable(torch.cuda.FloatTensor(noise))\n",
    "            #noise = Variable(torch.FloatTensor(noise)).cuda()\n",
    "        else:\n",
    "            noise = Variable(torch.FloatTensor(noise))\n",
    "        h = x + noise\n",
    "        self.buffer_tilde_z_bottom = h.clone()\n",
    "        # pass through encoders\n",
    "        for e_ref in self.encoders_ref:\n",
    "            encoder = getattr(self.encoders, e_ref)\n",
    "            h = encoder.forward_noise(h)\n",
    "        return h\n",
    "\n",
    "    def get_encoders_tilde_z(self, reverse=True):\n",
    "        tilde_z_layers = []\n",
    "        for e_ref in self.encoders_ref:\n",
    "            encoder = getattr(self.encoders, e_ref)\n",
    "            tilde_z = encoder.buffer_tilde_z.clone()\n",
    "            tilde_z_layers.append(tilde_z)\n",
    "        if reverse:\n",
    "            tilde_z_layers.reverse()\n",
    "        return tilde_z_layers\n",
    "\n",
    "    def get_encoders_z_pre(self, reverse=True):\n",
    "        z_pre_layers = []\n",
    "        for e_ref in self.encoders_ref:\n",
    "            encoder = getattr(self.encoders, e_ref)\n",
    "            z_pre = encoder.buffer_z_pre.clone()\n",
    "            z_pre_layers.append(z_pre)\n",
    "        if reverse:\n",
    "            z_pre_layers.reverse()\n",
    "        return z_pre_layers\n",
    "\n",
    "    def get_encoders_z(self, reverse=True):\n",
    "        z_layers = []\n",
    "        for e_ref in self.encoders_ref:\n",
    "            encoder = getattr(self.encoders, e_ref)\n",
    "            z = encoder.buffer_z.clone()\n",
    "            z_layers.append(z)\n",
    "        if reverse:\n",
    "            z_layers.reverse()\n",
    "        return z_layers"
   ]
  },
  {
   "cell_type": "markdown",
   "metadata": {},
   "source": [
    "### decoder"
   ]
  },
  {
   "cell_type": "code",
   "execution_count": 6,
   "metadata": {},
   "outputs": [],
   "source": [
    "class Decoder(torch.nn.Module):\n",
    "    def __init__(self, d_in, d_out, use_cuda):\n",
    "        super(Decoder, self).__init__()\n",
    "\n",
    "        self.d_in = d_in\n",
    "        self.d_out = d_out\n",
    "        self.use_cuda = use_cuda\n",
    "\n",
    "        if self.use_cuda:\n",
    "            self.a1 = Parameter(0. * torch.ones(1, d_in).cuda())\n",
    "            self.a2 = Parameter(1. * torch.ones(1, d_in).cuda())\n",
    "            self.a3 = Parameter(0. * torch.ones(1, d_in).cuda())\n",
    "            self.a4 = Parameter(0. * torch.ones(1, d_in).cuda())\n",
    "            self.a5 = Parameter(0. * torch.ones(1, d_in).cuda())\n",
    "\n",
    "            self.a6 = Parameter(0. * torch.ones(1, d_in).cuda())\n",
    "            self.a7 = Parameter(1. * torch.ones(1, d_in).cuda())\n",
    "            self.a8 = Parameter(0. * torch.ones(1, d_in).cuda())\n",
    "            self.a9 = Parameter(0. * torch.ones(1, d_in).cuda())\n",
    "            self.a10 = Parameter(0. * torch.ones(1, d_in).cuda())\n",
    "        else:\n",
    "            self.a1 = Parameter(0. * torch.ones(1, d_in))\n",
    "            self.a2 = Parameter(1. * torch.ones(1, d_in))\n",
    "            self.a3 = Parameter(0. * torch.ones(1, d_in))\n",
    "            self.a4 = Parameter(0. * torch.ones(1, d_in))\n",
    "            self.a5 = Parameter(0. * torch.ones(1, d_in))\n",
    "\n",
    "            self.a6 = Parameter(0. * torch.ones(1, d_in))\n",
    "            self.a7 = Parameter(1. * torch.ones(1, d_in))\n",
    "            self.a8 = Parameter(0. * torch.ones(1, d_in))\n",
    "            self.a9 = Parameter(0. * torch.ones(1, d_in))\n",
    "            self.a10 = Parameter(0. * torch.ones(1, d_in))\n",
    "\n",
    "\n",
    "        if self.d_out is not None:\n",
    "            self.V = torch.nn.Linear(d_in, d_out, bias=False)\n",
    "            self.V.weight.data = torch.randn(self.V.weight.data.size()) / np.sqrt(d_in)\n",
    "            # batch-normalization for u\n",
    "            self.bn_normalize = torch.nn.BatchNorm1d(d_out, affine=False)\n",
    "\n",
    "        # buffer for hat_z_l to be used for cost calculation\n",
    "        self.buffer_hat_z_l = None\n",
    "\n",
    "    def g(self, tilde_z_l, u_l):\n",
    "        if self.use_cuda:\n",
    "            ones = Parameter(torch.ones(tilde_z_l.size()[0], 1).cuda())\n",
    "        else:\n",
    "            ones = Parameter(torch.ones(tilde_z_l.size()[0], 1))\n",
    "\n",
    "        b_a1 = ones.mm(self.a1)\n",
    "        b_a2 = ones.mm(self.a2)\n",
    "        b_a3 = ones.mm(self.a3)\n",
    "        b_a4 = ones.mm(self.a4)\n",
    "        b_a5 = ones.mm(self.a5)\n",
    "\n",
    "        b_a6 = ones.mm(self.a6)\n",
    "        b_a7 = ones.mm(self.a7)\n",
    "        b_a8 = ones.mm(self.a8)\n",
    "        b_a9 = ones.mm(self.a9)\n",
    "        b_a10 = ones.mm(self.a10)\n",
    "\n",
    "        mu_l = torch.mul(b_a1, torch.sigmoid(torch.mul(b_a2, u_l) + b_a3)) + \\\n",
    "               torch.mul(b_a4, u_l) + \\\n",
    "               b_a5\n",
    "\n",
    "        v_l = torch.mul(b_a6, torch.sigmoid(torch.mul(b_a7, u_l) + b_a8)) + \\\n",
    "              torch.mul(b_a9, u_l) + \\\n",
    "              b_a10\n",
    "\n",
    "        hat_z_l = torch.mul(tilde_z_l - mu_l, v_l) + mu_l\n",
    "\n",
    "        return hat_z_l\n",
    "\n",
    "    def forward(self, tilde_z_l, u_l):\n",
    "        # hat_z_l will be used for calculating decoder costs\n",
    "        hat_z_l = self.g(tilde_z_l, u_l)\n",
    "        # store hat_z_l in buffer for cost calculation\n",
    "        self.buffer_hat_z_l = hat_z_l\n",
    "\n",
    "        if self.d_out is not None:\n",
    "            t = self.V.forward(hat_z_l)\n",
    "            u_l_below = self.bn_normalize(t)\n",
    "            return u_l_below\n",
    "        else:\n",
    "            return None"
   ]
  },
  {
   "cell_type": "code",
   "execution_count": 7,
   "metadata": {},
   "outputs": [],
   "source": [
    "class StackedDecoders(torch.nn.Module):\n",
    "    def __init__(self, d_in, d_decoders, image_size, use_cuda):\n",
    "        super(StackedDecoders, self).__init__()\n",
    "        self.bn_u_top = torch.nn.BatchNorm1d(d_in, affine=False)\n",
    "        self.decoders_ref = []\n",
    "        self.decoders = torch.nn.Sequential()\n",
    "        self.use_cuda = use_cuda\n",
    "        n_decoders = len(d_decoders)\n",
    "        for i in range(n_decoders):\n",
    "            if i == 0:\n",
    "                d_input = d_in\n",
    "            else:\n",
    "                d_input = d_decoders[i - 1]\n",
    "            d_output = d_decoders[i]\n",
    "            decoder_ref = \"decoder_\" + str(i)\n",
    "            decoder = Decoder(d_input, d_output, use_cuda)\n",
    "            self.decoders_ref.append(decoder_ref)\n",
    "            self.decoders.add_module(decoder_ref, decoder)\n",
    "\n",
    "        self.bottom_decoder = Decoder(image_size, None, use_cuda)\n",
    "\n",
    "    def forward(self, tilde_z_layers, u_top, tilde_z_bottom):\n",
    "        # Note that tilde_z_layers should be in reversed order of encoders\n",
    "        hat_z = []\n",
    "        u = self.bn_u_top(u_top)\n",
    "        for i in range(len(self.decoders_ref)):\n",
    "            d_ref = self.decoders_ref[i]\n",
    "            decoder = getattr(self.decoders, d_ref)\n",
    "            tilde_z = tilde_z_layers[i]\n",
    "            u = decoder.forward(tilde_z, u)\n",
    "            hat_z.append(decoder.buffer_hat_z_l)\n",
    "        self.bottom_decoder.forward(tilde_z_bottom, u)\n",
    "        hat_z_bottom = self.bottom_decoder.buffer_hat_z_l.clone()\n",
    "        hat_z.append(hat_z_bottom)\n",
    "        return hat_z\n",
    "\n",
    "    def bn_hat_z_layers(self, hat_z_layers, z_pre_layers):\n",
    "        # TODO: Calculate batchnorm using GPU Tensors.\n",
    "        assert len(hat_z_layers) == len(z_pre_layers)\n",
    "        hat_z_layers_normalized = []\n",
    "        for i, (hat_z, z_pre) in enumerate(zip(hat_z_layers, z_pre_layers)):\n",
    "            if self.use_cuda:\n",
    "                ones = Variable(torch.ones(z_pre.size()[0], 1).cuda())\n",
    "            else:\n",
    "                ones = Variable(torch.ones(z_pre.size()[0], 1))\n",
    "            mean = torch.mean(z_pre, 0)\n",
    "            mean.unsqueeze_(0) # <---- ADDED BY OMM\n",
    "            noise_var = np.random.normal(loc=0.0, scale=1 - 1e-10, size=z_pre.size())\n",
    "            if self.use_cuda:\n",
    "                var = np.var(z_pre.data.cpu().numpy() + noise_var, axis=0).reshape(1, z_pre.size()[1])\n",
    "            else:\n",
    "                var = np.var(z_pre.data.numpy() + noise_var, axis=0).reshape(1, z_pre.size()[1])\n",
    "            var = Variable(torch.FloatTensor(var))\n",
    "            if self.use_cuda:\n",
    "                hat_z = hat_z.cpu()\n",
    "                ones = ones.cpu()\n",
    "                mean = mean.cpu()\n",
    "            hat_z_normalized = torch.div(hat_z - ones.mm(mean), ones.mm(torch.sqrt(var + 1e-10)))\n",
    "            if self.use_cuda:\n",
    "                hat_z_normalized = hat_z_normalized.cuda()\n",
    "            hat_z_layers_normalized.append(hat_z_normalized)\n",
    "        return hat_z_layers_normalized"
   ]
  },
  {
   "cell_type": "markdown",
   "metadata": {},
   "source": [
    "---"
   ]
  },
  {
   "cell_type": "markdown",
   "metadata": {},
   "source": [
    "# ladder"
   ]
  },
  {
   "cell_type": "code",
   "execution_count": 8,
   "metadata": {},
   "outputs": [],
   "source": [
    "class Ladder(torch.nn.Module):\n",
    "    def __init__(self, encoder_sizes, decoder_sizes, encoder_activations, encoder_train_bn_scaling,\n",
    "                noise_std, use_cuda):\n",
    "        super(Ladder, self).__init__()\n",
    "        self.use_cuda = use_cuda\n",
    "        decoder_in = encoder_sizes[-1]\n",
    "        encoder_in = decoder_sizes[-1]\n",
    "        self.se = StackedEncoders(encoder_in, encoder_sizes, encoder_activations,\n",
    "                                  encoder_train_bn_scaling, noise_std, use_cuda)\n",
    "        self.de = StackedDecoders(decoder_in, decoder_sizes, encoder_in, use_cuda)\n",
    "        \n",
    "        self.bn_image = torch.nn.BatchNorm1d(encoder_in, affine=False)\n",
    "        \n",
    "    def forward_encoders_clean(self, data):\n",
    "        return self.se.forward_clean(data)\n",
    "        \n",
    "    def forward_encoders_noise(self, data):\n",
    "        return self.se.forward_noise(data)\n",
    "    \n",
    "    def forward_decoders(self, tilde_z_layers, encoder_output, tilde_z_bottom):\n",
    "        return self.de.forward(tilde_z_layers, encoder_output, tilde_z_bottom)\n",
    "        \n",
    "    def get_encoders_tilde_z(self, reverse=True):\n",
    "        return self.se.get_encoders_tilde_z(reverse)\n",
    "\n",
    "    def get_encoders_z_pre(self, reverse=True):\n",
    "        return self.se.get_encoders_z_pre(reverse)\n",
    "\n",
    "    def get_encoder_tilde_z_bottom(self):\n",
    "        return self.se.buffer_tilde_z_bottom.clone()\n",
    "\n",
    "    def get_encoders_z(self, reverse=True):\n",
    "        return self.se.get_encoders_z(reverse)\n",
    "\n",
    "    def decoder_bn_hat_z_layers(self, hat_z_layers, z_pre_layers):\n",
    "        return self.de.bn_hat_z_layers(hat_z_layers, z_pre_layers)"
   ]
  },
  {
   "cell_type": "code",
   "execution_count": null,
   "metadata": {},
   "outputs": [],
   "source": []
  },
  {
   "cell_type": "markdown",
   "metadata": {},
   "source": [
    "---"
   ]
  },
  {
   "cell_type": "markdown",
   "metadata": {},
   "source": [
    "# Data"
   ]
  },
  {
   "cell_type": "code",
   "execution_count": 9,
   "metadata": {},
   "outputs": [],
   "source": [
    "root='data/'\n",
    "train_set = dset.MNIST(root=root, train=True, download=True)\n",
    "test_set = dset.MNIST(root=root, train=False, download=True)"
   ]
  },
  {
   "cell_type": "code",
   "execution_count": 10,
   "metadata": {},
   "outputs": [
    {
     "name": "stdout",
     "output_type": "stream",
     "text": [
      "X_train_labelled = torch.Size([9000, 784]), 15% of 60000\n",
      "X_train_unlabelled = torch.Size([51000, 784]), 85% of 60000\n",
      "labels = torch.Size([9000])\n"
     ]
    }
   ],
   "source": [
    "# Load MNIST and permutate it\n",
    "X_train = train_set.train_data\n",
    "y_train = train_set.train_labels\n",
    "# Normalize it\n",
    "X_train = np.multiply(X_train, 1./255.)\n",
    "# Flatten the rows and columns\n",
    "X_train = X_train.reshape(X_train.shape[0],X_train.shape[1]*X_train.shape[2])\n",
    "randomize = np.arange(X_train.shape[0])\n",
    "np.random.shuffle(randomize)\n",
    "# Get a ratio from labeled and unlabeled data\n",
    "labeled_ratio = .15\n",
    "X_train_labelled = X_train[randomize[:int(np.round(X_train.shape[0] * labeled_ratio))]] \n",
    "y_train = y_train[randomize[:int(np.round(X_train.shape[0] * labeled_ratio))]]\n",
    "X_train_unlabelled = X_train[randomize[int(np.round(X_train.shape[0] * labeled_ratio)):]] \n",
    "# Covert to tensor\n",
    "X_train_labelled = X_train_labelled.type(torch.Tensor)\n",
    "X_train_unlabelled = X_train_unlabelled.type(torch.Tensor)\n",
    "#X_train = np.expand_dims(X_train,-1)\n",
    "print(f'X_train_labelled = {np.shape(X_train_labelled)}, {labeled_ratio*100:.0f}% of {X_train.shape[0]}')\n",
    "print(f'X_train_unlabelled = {np.shape(X_train_unlabelled)}, {(1-labeled_ratio)*100:.0f}% of {X_train.shape[0]}')\n",
    "print(f'labels = {np.shape(y_train)}')"
   ]
  },
  {
   "cell_type": "code",
   "execution_count": 11,
   "metadata": {},
   "outputs": [
    {
     "data": {
      "text/plain": [
       "<matplotlib.image.AxesImage at 0x7f635fbd1eb8>"
      ]
     },
     "execution_count": 11,
     "metadata": {},
     "output_type": "execute_result"
    },
    {
     "data": {
      "image/png": "[encoded data removed]",
      "text/plain": [
       "<Figure size 432x288 with 1 Axes>"
      ]
     },
     "metadata": {},
     "output_type": "display_data"
    }
   ],
   "source": [
    "plt.imshow(np.reshape(X_train[0],[28,28]))"
   ]
  },
  {
   "cell_type": "code",
   "execution_count": 12,
   "metadata": {},
   "outputs": [],
   "source": [
    "# Test data\n",
    "X_test = test_set.test_data\n",
    "y_test = test_set.test_labels\n",
    "X_test = np.multiply(X_test, 1./255)\n",
    "X_test = X_test.reshape(X_test.shape[0],X_test.shape[1]*X_test.shape[2])\n",
    "X_test = X_test.type(torch.Tensor)\n",
    "X_test = torch.FloatTensor(X_test)\n",
    "y_test = torch.LongTensor(y_test)\n",
    "X_test = Variable(X_test, requires_grad = False)\n",
    "y_test = Variable(y_test, requires_grad = False)"
   ]
  },
  {
   "cell_type": "code",
   "execution_count": 13,
   "metadata": {},
   "outputs": [
    {
     "data": {
      "text/plain": [
       "<matplotlib.image.AxesImage at 0x7f635fb6a748>"
      ]
     },
     "execution_count": 13,
     "metadata": {},
     "output_type": "execute_result"
    },
    {
     "data": {
      "image/png": "[encoded data removed]",
      "text/plain": [
       "<Figure size 432x288 with 1 Axes>"
      ]
     },
     "metadata": {},
     "output_type": "display_data"
    }
   ],
   "source": [
    "plt.imshow(np.reshape(X_test[0],[28,28]))"
   ]
  },
  {
   "cell_type": "markdown",
   "metadata": {},
   "source": [
    "---"
   ]
  },
  {
   "cell_type": "markdown",
   "metadata": {},
   "source": [
    "# Ladder"
   ]
  },
  {
   "cell_type": "code",
   "execution_count": 14,
   "metadata": {},
   "outputs": [
    {
     "data": {
      "text/plain": [
       "<torch._C.Generator at 0x7f638929c6f0>"
      ]
     },
     "execution_count": 14,
     "metadata": {},
     "output_type": "execute_result"
    }
   ],
   "source": [
    "seed = 42\n",
    "np.random.seed(seed)\n",
    "torch.manual_seed(seed)"
   ]
  },
  {
   "cell_type": "code",
   "execution_count": 28,
   "metadata": {},
   "outputs": [
    {
     "name": "stderr",
     "output_type": "stream",
     "text": [
      "/home/om18/anaconda3/envs/pytorch/lib/python3.6/site-packages/ipykernel_launcher.py:86: UserWarning: Implicit dimension choice for softmax has been deprecated. Change the call to include dim=X as an argument.\n",
      "/home/om18/anaconda3/envs/pytorch/lib/python3.6/site-packages/ipykernel_launcher.py:68: UserWarning: Implicit dimension choice for softmax has been deprecated. Change the call to include dim=X as an argument.\n"
     ]
    },
    {
     "name": "stdout",
     "output_type": "stream",
     "text": [
      "epoch = 0, batch = 90\n",
      "epoch = 1, batch = 90\n",
      "epoch = 2, batch = 90\n",
      "epoch = 3, batch = 90\n",
      "epoch = 4, batch = 90\n",
      "epoch = 5, batch = 90\n",
      "epoch = 6, batch = 90\n",
      "epoch = 7, batch = 90\n",
      "epoch = 8, batch = 90\n",
      "epoch = 9, batch = 90\n",
      "epoch = 10, batch = 90\n",
      "epoch = 11, batch = 90\n",
      "epoch = 12, batch = 90\n",
      "epoch = 13, batch = 90\n",
      "epoch = 14, batch = 90\n",
      "epoch = 15, batch = 90\n",
      "epoch = 16, batch = 90\n",
      "epoch = 17, batch = 90\n",
      "epoch = 18, batch = 90\n",
      "epoch = 19, batch = 90\n"
     ]
    }
   ],
   "source": [
    "# Configure the Ladder\n",
    "noise_std = 0.2\n",
    "encoder_sizes = [1000, 500, 250, 250, 250, 10]\n",
    "decoder_sizes = [250, 250, 250, 500, 1000, 784]\n",
    "unsupervised_costs_lambda = [0.1, 0.1, 0.1, 0.1, 0.1, 10., 1000.]  # 0.1, 0.1, 0.1, 0.1, 0.1, 10., 1000.\n",
    "encoder_activations = [\"relu\", \"relu\", \"relu\", \"relu\", \"relu\", \"softmax\"]\n",
    "encoder_train_bn_scaling = [False, False, False, False, False, True]\n",
    "\n",
    "use_cuda = True \n",
    "\n",
    "ladder = Ladder(encoder_sizes, decoder_sizes, encoder_activations,\n",
    "                    encoder_train_bn_scaling, noise_std, use_cuda)\n",
    "\n",
    "epochs = 20\n",
    "decay_epoch = 15\n",
    "learning_rate = 0.02\n",
    "initial_learning_rate = learning_rate\n",
    "optimizer = Adam(ladder.parameters(), lr = learning_rate)\n",
    "loss_supervised = torch.nn.CrossEntropyLoss()\n",
    "loss_unsupervised = torch.nn.MSELoss()\n",
    "\n",
    "if use_cuda:\n",
    "    ladder.cuda()\n",
    "\n",
    "batch_size = 100\n",
    "batch_times = np.shape(X_train_labelled)[0]//batch_size\n",
    "batch_size_unlabelled = int(np.shape(X_train_unlabelled)[0] / batch_size)\n",
    "\n",
    "supervised_costs = []\n",
    "unsupervised_costs = []\n",
    "cost_main = []\n",
    "y_pred_all = []\n",
    "\n",
    "agg_cost = 0.\n",
    "agg_supervised_cost = 0.\n",
    "agg_unsupervised_cost = 0.\n",
    "num_batches = 0\n",
    "\n",
    "for epoch in range(epochs):\n",
    "    \n",
    "    if epoch > decay_epoch:\n",
    "        ratio = float(epochs - epoch) / (epochs - decay_epoch)\n",
    "        learning_rate = learning_rate * ratio\n",
    "        optimizer = Adam(ladder.parameters(), lr = learning_rate)\n",
    "        \n",
    "    for i in range(batch_times):\n",
    "        \n",
    "        if (i+1)%100==0 or i==batch_times-1: print(f'epoch = {epoch}, batch = {i+1}')\n",
    "    \n",
    "        ladder.train()\n",
    "        optimizer.zero_grad()\n",
    "        \n",
    "        batch_train_labelled_images = torch.FloatTensor(X_train_labelled[i*batch_size:(i+1)*batch_size-1])\n",
    "        batch_train_unlabelled_images = torch.FloatTensor(X_train_unlabelled[i*batch_size_unlabelled:(i+1)*batch_size_unlabelled-1])\n",
    "        batch_train_labelled_labels = torch.LongTensor(y_train[i*batch_size:(i+1)*batch_size-1])\n",
    "        \n",
    "        if use_cuda:\n",
    "            batch_train_labelled_images = batch_train_labelled_images.cuda()\n",
    "            batch_train_unlabelled_images = batch_train_unlabelled_images.cuda()\n",
    "            batch_train_labelled_labels = batch_train_labelled_labels.cuda()\n",
    "        \n",
    "        labelled_data = Variable(batch_train_labelled_images, requires_grad=False)\n",
    "        unlabelled_data = Variable(batch_train_unlabelled_images, requires_grad=False)\n",
    "        labelled_target = Variable(batch_train_labelled_labels)\n",
    "        \n",
    "        # encoders\n",
    "        output_noise_labelled = ladder.forward_encoders_noise(labelled_data)            # 1\n",
    "        output_noise_unlabelled = ladder.forward_encoders_noise(unlabelled_data)        # 2\n",
    "        tilde_z_layers_unlabelled = ladder.get_encoders_tilde_z(reverse=True)           # 3\n",
    "        output_clean_unlabelled = ladder.forward_encoders_clean(unlabelled_data)        # 4\n",
    "        z_pre_layers_unlabelled = ladder.get_encoders_z_pre(reverse=True)               # 5\n",
    "        z_layers_unlabelled = ladder.get_encoders_z(reverse=True)                       # 6\n",
    "        tilde_z_bottom_unlabelled = ladder.get_encoder_tilde_z_bottom()                 # 7\n",
    "        # decoders\n",
    "        hat_z_layers_unlabelled = ladder.forward_decoders(tilde_z_layers_unlabelled,    \n",
    "                                                      output_noise_unlabelled,\n",
    "                                                      tilde_z_bottom_unlabelled)\n",
    "        z_pre_layers_unlabelled.append(unlabelled_data)\n",
    "        z_layers_unlabelled.append(unlabelled_data)\n",
    "        \n",
    "        bn_hat_z_layers_unlabelled = ladder.decoder_bn_hat_z_layers(hat_z_layers_unlabelled, \n",
    "                                                                z_pre_layers_unlabelled)\n",
    "        # costs\n",
    "        cost_supervised = loss_supervised.forward(output_noise_labelled, labelled_target)\n",
    "        cost_unsupervised = 0.\n",
    "        assert len(z_layers_unlabelled) == len(bn_hat_z_layers_unlabelled)\n",
    "        for cost_lambda, z, bn_hat_z in zip(unsupervised_costs_lambda, z_layers_unlabelled, bn_hat_z_layers_unlabelled):\n",
    "            c = cost_lambda * loss_unsupervised.forward(bn_hat_z, z)\n",
    "            cost_unsupervised += c\n",
    "    \n",
    "        # backprop\n",
    "        cost = cost_supervised + cost_unsupervised\n",
    "        cost.backward()                  # if cost_supervised.backward is in , acc = 0.80\n",
    "        optimizer.step()\n",
    "    \n",
    "        agg_cost += cost.item()\n",
    "        agg_supervised_cost += cost_supervised.item()\n",
    "        agg_unsupervised_cost += cost_unsupervised.item()\n",
    "        num_batches += 1\n",
    "        \n",
    "        supervised_costs.append(cost_supervised.item())\n",
    "        unsupervised_costs.append(cost_unsupervised.item())\n",
    "        cost_main.append(cost.item())\n",
    "        \n",
    "    # eval\n",
    "    ladder.eval()\n",
    "    with torch.no_grad(): # So we don't run out of memory \n",
    "        if use_cuda:\n",
    "            X_test = X_test.cuda()\n",
    "        \n",
    "        X_test_cuda = Variable(X_test)\n",
    "        y_pred = ladder.forward_encoders_clean(X_test_cuda)\n",
    "        y_pred_all.append(y_pred)"
   ]
  },
  {
   "cell_type": "code",
   "execution_count": 64,
   "metadata": {},
   "outputs": [
    {
     "data": {
      "image/png": "[encoded data removed]",
      "text/plain": [
       "<Figure size 1008x648 with 1 Axes>"
      ]
     },
     "metadata": {},
     "output_type": "display_data"
    }
   ],
   "source": [
    "plt.figure(figsize=(14,9))\n",
    "accuracies = []\n",
    "for i in y_pred_all:\n",
    "    pred_proba = i.data.cpu()\n",
    "    pred = np.argmax(pred_proba, 1)\n",
    "    accuracies.append(accuracy_score(y_test.numpy(),pred))\n",
    "plt.plot(np.arange(1,len(accuracies)+1),accuracies)\n",
    "plt.ylabel('Accuracy', fontsize=18)\n",
    "plt.xlabel('Epochs', fontsize=18)\n",
    "plt.title('Test Acc', fontsize=18)\n",
    "plt.xticks(fontsize=18)\n",
    "plt.yticks(fontsize=18)\n",
    "notes = mpatches.Patch(color='#1F77B4', label=f'cost.back(), \\nini_lr = {initial_learning_rate:.3f}, \\\n",
    "last_lamda={unsupervised_costs_lambda[-1]} \\ndecay_ep={decay_epoch}, \\nlabelled={np.shape(X_train_labelled)[0]}({labeled_ratio}%)\\\n",
    "\\nunlabelled={np.shape(X_train_unlabelled)[0]}({1-labeled_ratio}%)\\\n",
    "\\ntest = {np.shape(X_test)[0]}')\n",
    "plt.legend(handles=[notes], fontsize=18)\n",
    "plt.savefig(f'ladder_mnist_acc_{int(labeled_ratio*100)}%label.png', bbox_inches='tight')"
   ]
  },
  {
   "cell_type": "code",
   "execution_count": 65,
   "metadata": {},
   "outputs": [
    {
     "data": {
      "image/png": "[encoded data removed]",
      "text/plain": [
       "<Figure size 1008x648 with 1 Axes>"
      ]
     },
     "metadata": {},
     "output_type": "display_data"
    }
   ],
   "source": [
    "plt.figure(figsize=(14,9))\n",
    "name_cost_main, = plt.plot(np.arange(1,len(cost_main)+1), cost_main, label='main_cost')\n",
    "name_supervised_costs, = plt.plot(np.arange(1,len(supervised_costs)+1), supervised_costs, label='supervised_cost')\n",
    "name_unsupervised_costs, = plt.plot(np.arange(1,len(unsupervised_costs)+1), unsupervised_costs, label='unsupervised_cost')\n",
    "plt.ylabel('Loss', fontsize=18)\n",
    "plt.xlabel('Mini Batch Iterations', fontsize=18)\n",
    "plt.title('Test Acc', fontsize=18)\n",
    "plt.xticks(fontsize=18)\n",
    "plt.yticks(fontsize=18)\n",
    "plt.legend(handles=[name_cost_main, name_supervised_costs, name_unsupervised_costs], fontsize=18)\n",
    "plt.savefig(f'ladder_mnist_loss_{int(labeled_ratio*100)}%label.png', bbox_inches='tight')"
   ]
  },
  {
   "cell_type": "markdown",
   "metadata": {},
   "source": [
    "# Encoder & decoder"
   ]
  },
  {
   "cell_type": "code",
   "execution_count": null,
   "metadata": {},
   "outputs": [],
   "source": [
    "many_encoders = StackedEncoders(784, [1000, 500, 250, 250, 250, 10], \n",
    "                                [\"relu\", \"relu\", \"relu\", \"relu\", \"relu\", \"softmax\"], \n",
    "                                [False, False, False, False, False, True], 0.2, False)\n",
    "many_decoders = StackedDecoders(10, [250, 250, 250, 500, 1000, 784], 784, False)\n",
    "\n",
    "unsupervised_costs_lambda = [0.1, 0.1, 0.1, 0.1, 0.1, 10., 1000.]\n",
    "\n",
    "current_lr = 0.002\n",
    "optimizer = Adam(many_encoders.parameters(), lr = current_lr)\n",
    "optimizer_decoder = Adam(many_decoders.parameters(), lr = current_lr)\n",
    "loss_supervised = torch.nn.CrossEntropyLoss()\n",
    "loss_unsupervised = torch.nn.MSELoss()\n",
    "\n",
    "batch_size = 100\n",
    "batch_times = np.shape(X_train_labelled)[0]//batch_size\n",
    "\n",
    "supervised_costs=[]\n",
    "many_encoders.train()\n",
    "\n",
    "agg_cost = 0.\n",
    "agg_supervised_cost = 0.\n",
    "agg_unsupervised_cost = 0.\n",
    "num_batches = 0\n",
    "\n",
    "y_pred_all = []\n",
    "\n",
    "for epoch in range(10):\n",
    "    \n",
    "    if epoch % 4 == 0:\n",
    "        current_lr /= 2\n",
    "        optimizer = Adam(many_encoders.parameters(), lr = current_lr)\n",
    "        optimizer_decoder = Adam(many_encoders.parameters(), lr = current_lr)\n",
    "    \n",
    "    many_encoders.train()\n",
    "    many_decoders.train()\n",
    "    \n",
    "    for i in range(batch_times):\n",
    "        \n",
    "        optimizer.zero_grad()\n",
    "        optimizer_decoder.zero_grad()\n",
    "        \n",
    "        if (i+1)%100==0 or i==batch_times-1: print(f'epoch = {epoch}, batch = {i+1}')\n",
    "            \n",
    "        batch_train_labelled_images = torch.FloatTensor(X_train_labelled[i:i+int(np.round(batch_size*labeled_ratio))])\n",
    "        batch_train_unlabelled_images = torch.FloatTensor(X_train_unlabelled[i:i+int(np.round(batch_size*(1-labeled_ratio)))])\n",
    "        batch_train_labelled_labels = torch.LongTensor(y_train[i:i+int(np.round(batch_size*labeled_ratio))])\n",
    "        \n",
    "        labelled_data = Variable(batch_train_labelled_images, requires_grad=False)\n",
    "        unlabelled_data = Variable(batch_train_unlabelled_images, requires_grad=False)\n",
    "        labelled_target = Variable(batch_train_labelled_labels, requires_grad=False)\n",
    "        \n",
    "        # Encoder\n",
    "        \n",
    "        output_noise_labelled = many_encoders.forward_noise(labelled_data)                  # 1\n",
    "        output_noise_unlabelled = many_encoders.forward_noise(unlabelled_data)              # 2\n",
    "        tilde_z_layers_unlabelled = many_encoders.get_encoders_tilde_z(reverse=True)        # 3\n",
    "        output_clean_unlabelled = many_encoders.forward_clean(unlabelled_data)              # 4\n",
    "        z_pre_layers_unlabelled = many_encoders.get_encoders_z_pre(reverse=True)            # 5\n",
    "        z_layers_unlabelled = many_encoders.get_encoders_z(reverse=True)                    # 6\n",
    "        tilde_z_bottom_unlabelled = many_encoders.buffer_tilde_z_bottom                     # 7\n",
    "        \n",
    "        # Decoder\n",
    "        \n",
    "        hat_z_layers_unlabelled = many_decoders.forward(tilde_z_layers_unlabelled,          # 8 \n",
    "                                                        output_noise_unlabelled,\n",
    "                                                        tilde_z_bottom_unlabelled)\n",
    "        z_pre_layers_unlabelled.append(unlabelled_data)                                     # 9  \n",
    "        z_layers_unlabelled.append(unlabelled_data)                                         # 10\n",
    "        bn_hat_z_layers_unlabelled = many_decoders.bn_hat_z_layers(hat_z_layers_unlabelled, # 11\n",
    "                                                                   z_pre_layers_unlabelled)\n",
    "        # Costs\n",
    "        \n",
    "        cost_supervised = loss_supervised.forward(output_noise_labelled, labelled_target)\n",
    "        cost_unsupervised = 0.\n",
    "        for cost_lambda, z, bn_hat_z in zip(unsupervised_costs_lambda, \n",
    "                                            z_layers_unlabelled, bn_hat_z_layers_unlabelled):\n",
    "            c = cost_lambda * loss_unsupervised.forward(bn_hat_z, z)                        \n",
    "            cost_unsupervised += c\n",
    "        \n",
    "        # Backprop\n",
    "        cost = cost_supervised + cost_unsupervised\n",
    "        \n",
    "        \n",
    "        cost_supervised.backward()\n",
    "        cost_unsupervised.backward()\n",
    "        \n",
    "        optimizer_decoder.step() \n",
    "        optimizer.step()\n",
    "        \n",
    "        agg_cost += cost.item()\n",
    "        agg_supervised_cost += cost_supervised.item()\n",
    "        agg_unsupervised_cost += cost_unsupervised.item()\n",
    "        num_batches += 1\n",
    "        \n",
    "        supervised_costs.append(cost_supervised)\n",
    "    \n",
    "    many_encoders.eval()\n",
    "    y_pred = many_encoders.forward_clean(X_test)\n",
    "    y_pred_all.append(y_pred)"
   ]
  },
  {
   "cell_type": "code",
   "execution_count": null,
   "metadata": {},
   "outputs": [],
   "source": [
    "accuracies = []\n",
    "for i in y_pred_all:\n",
    "    pred_proba = i.detach().numpy()\n",
    "    pred = np.argmax(pred_proba, 1)\n",
    "    accuracies.append(accuracy_score(y_test.numpy(),pred))\n",
    "plt.plot(accuracies)\n",
    "#plt.title('cost_super-unsuper.back(), optim_decoder-coder.zero()')"
   ]
  },
  {
   "cell_type": "code",
   "execution_count": null,
   "metadata": {},
   "outputs": [],
   "source": [
    "accuracies = []\n",
    "for i in y_pred_all:\n",
    "    pred_proba = i.detach().numpy()\n",
    "    pred = np.argmax(pred_proba, 1)\n",
    "    accuracies.append(accuracy_score(y_test.numpy(),pred))\n",
    "plt.plot(accuracies)\n",
    "plt.title('cost_super-unsuper.back(), optim_coder-decoder.zero()')"
   ]
  },
  {
   "cell_type": "code",
   "execution_count": null,
   "metadata": {},
   "outputs": [],
   "source": [
    "accuracies = []\n",
    "for i in y_pred_all:\n",
    "    pred_proba = i.detach().numpy()\n",
    "    pred = np.argmax(pred_proba, 1)\n",
    "    accuracies.append(accuracy_score(y_test.numpy(),pred))\n",
    "plt.plot(accuracies)\n",
    "plt.title('cost_super-unsuper.back(), optim_coder-decoder.zero()')"
   ]
  },
  {
   "cell_type": "code",
   "execution_count": null,
   "metadata": {},
   "outputs": [],
   "source": [
    "accuracies = []\n",
    "for i in y_pred_all:\n",
    "    pred_proba = i.detach().numpy()\n",
    "    pred = np.argmax(pred_proba, 1)\n",
    "    accuracies.append(accuracy_score(y_test.numpy(),pred))\n",
    "plt.plot(accuracies)\n",
    "plt.title('cost_unsuper-super.back(), optim_coder-decoder.zero()')"
   ]
  },
  {
   "cell_type": "code",
   "execution_count": null,
   "metadata": {},
   "outputs": [],
   "source": [
    "accuracies = []\n",
    "for i in y_pred_all:\n",
    "    pred_proba = i.detach().numpy()\n",
    "    pred = np.argmax(pred_proba, 1)\n",
    "    accuracies.append(accuracy_score(y_test.numpy(),pred))\n",
    "plt.plot(accuracies)\n",
    "plt.title('cost.back(), optim_coder-decoder.zero()')"
   ]
  },
  {
   "cell_type": "code",
   "execution_count": null,
   "metadata": {},
   "outputs": [],
   "source": [
    "accuracies = []\n",
    "for i in y_pred_all:\n",
    "    pred_proba = i.detach().numpy()\n",
    "    pred = np.argmax(pred_proba, 1)\n",
    "    accuracies.append(accuracy_score(y_test.numpy(),pred))\n",
    "plt.plot(accuracies)\n",
    "plt.title('cost_super-unsuper.back(), optim_coder-decoder.zero()')"
   ]
  },
  {
   "cell_type": "code",
   "execution_count": null,
   "metadata": {},
   "outputs": [],
   "source": [
    "accuracies = []\n",
    "for i in y_pred_all:\n",
    "    pred_proba = i.detach().numpy()\n",
    "    pred = np.argmax(pred_proba, 1)\n",
    "    accuracies.append(accuracy_score(y_test.numpy(),pred))\n",
    "plt.plot(accuracies)\n",
    "plt.title('cost_super.back(), optim_coder_decoder.zero()')"
   ]
  },
  {
   "cell_type": "code",
   "execution_count": null,
   "metadata": {},
   "outputs": [],
   "source": [
    "accuracies = []\n",
    "for i in y_pred_all:\n",
    "    pred_proba = i.detach().numpy()\n",
    "    pred = np.argmax(pred_proba, 1)\n",
    "    accuracies.append(accuracy_score(y_test.numpy(),pred))\n",
    "plt.plot(accuracies)\n",
    "plt.title('cost_unsupervised.backward()')"
   ]
  },
  {
   "cell_type": "code",
   "execution_count": null,
   "metadata": {},
   "outputs": [],
   "source": [
    "accuracies = []\n",
    "for i in y_pred_all:\n",
    "    pred_proba = i.detach().numpy()\n",
    "    pred = np.argmax(pred_proba, 1)\n",
    "    accuracies.append(accuracy_score(y_test.numpy(),pred))\n",
    "plt.plot(accuracies)\n",
    "plt.title('cost_unsupervised_supervised.backward()')"
   ]
  },
  {
   "cell_type": "code",
   "execution_count": null,
   "metadata": {},
   "outputs": [],
   "source": [
    "accuracies = []\n",
    "for i in y_pred_all:\n",
    "    pred_proba = i.detach().numpy()\n",
    "    pred = np.argmax(pred_proba, 1)\n",
    "    accuracies.append(accuracy_score(y_test.numpy(),pred))\n",
    "plt.plot(accuracies)\n",
    "plt.title('cost_supervised.backward()')"
   ]
  },
  {
   "cell_type": "code",
   "execution_count": null,
   "metadata": {},
   "outputs": [],
   "source": [
    "accuracies = []\n",
    "for i in y_pred_all:\n",
    "    pred_proba = i.detach().numpy()\n",
    "    pred = np.argmax(pred_proba, 1)\n",
    "    accuracies.append(accuracy_score(y_test.numpy(),pred))\n",
    "plt.plot(accuracies)\n",
    "plt.title('cost.backward()')"
   ]
  },
  {
   "cell_type": "code",
   "execution_count": null,
   "metadata": {},
   "outputs": [],
   "source": [
    "accuracies = []\n",
    "for i in y_pred_all:\n",
    "    pred_proba = i.detach().numpy()\n",
    "    pred = np.argmax(pred_proba, 1)\n",
    "    accuracies.append(accuracy_score(y_test.numpy(),pred))\n",
    "plt.plot(accuracies)"
   ]
  },
  {
   "cell_type": "code",
   "execution_count": null,
   "metadata": {},
   "outputs": [],
   "source": [
    "accuracies = []\n",
    "for i in y_pred_all:\n",
    "    pred_proba = i.detach().numpy()\n",
    "    pred = np.argmax(pred_proba, 1)\n",
    "    accuracies.append(accuracy_score(y_test.numpy(),pred))\n",
    "plt.plot(accuracies)"
   ]
  },
  {
   "cell_type": "code",
   "execution_count": null,
   "metadata": {},
   "outputs": [],
   "source": [
    "y_test.numpy()"
   ]
  },
  {
   "cell_type": "code",
   "execution_count": null,
   "metadata": {},
   "outputs": [],
   "source": [
    "plt.plot(supervised_costs)\n",
    "#plt.xlim([0,300])"
   ]
  },
  {
   "cell_type": "code",
   "execution_count": null,
   "metadata": {},
   "outputs": [],
   "source": []
  },
  {
   "cell_type": "code",
   "execution_count": null,
   "metadata": {},
   "outputs": [],
   "source": [
    "many_encoders.eval()\n",
    "y_pred = many_encoders.forward_clean(X_test)"
   ]
  },
  {
   "cell_type": "code",
   "execution_count": null,
   "metadata": {},
   "outputs": [],
   "source": [
    "y_pred2 = y_pred.detach().numpy()\n",
    "y_pred2 = np.argmax(y_pred2,1)\n",
    "print(accuracy_score(y_test.detach().numpy(),y_pred2))\n",
    "confusion_matrix(y_test.detach().numpy(),y_pred2)"
   ]
  },
  {
   "cell_type": "code",
   "execution_count": null,
   "metadata": {},
   "outputs": [],
   "source": []
  },
  {
   "cell_type": "code",
   "execution_count": null,
   "metadata": {},
   "outputs": [],
   "source": []
  }
 ],
 "metadata": {
  "kernelspec": {
   "display_name": "Python 3",
   "language": "python",
   "name": "python3"
  },
  "language_info": {
   "codemirror_mode": {
    "name": "ipython",
    "version": 3
   },
   "file_extension": ".py",
   "mimetype": "text/x-python",
   "name": "python",
   "nbconvert_exporter": "python",
   "pygments_lexer": "ipython3",
   "version": "3.6.5"
  },
  "varInspector": {
   "cols": {
    "lenName": 16,
    "lenType": 16,
    "lenVar": 40
   },
   "kernels_config": {
    "python": {
     "delete_cmd_postfix": "",
     "delete_cmd_prefix": "del ",
     "library": "var_list.py",
     "varRefreshCmd": "print(var_dic_list())"
    },
    "r": {
     "delete_cmd_postfix": ") ",
     "delete_cmd_prefix": "rm(",
     "library": "var_list.r",
     "varRefreshCmd": "cat(var_dic_list()) "
    }
   },
   "position": {
    "height": "337px",
    "left": "896.667px",
    "right": "20px",
    "top": "120px",
    "width": "349px"
   },
   "types_to_exclude": [
    "module",
    "function",
    "builtin_function_or_method",
    "instance",
    "_Feature"
   ],
   "window_display": false
  }
 },
 "nbformat": 4,
 "nbformat_minor": 2
}
